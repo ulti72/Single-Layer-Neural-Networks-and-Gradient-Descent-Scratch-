{
 "cells": [
  {
   "cell_type": "code",
   "execution_count": null,
   "metadata": {
    "collapsed": true
   },
   "outputs": [],
   "source": [
    "#Preditic cat:1 vs non cat:0: using 1 layer neural network from scratch"
   ]
  },
  {
   "cell_type": "code",
   "execution_count": 192,
   "metadata": {},
   "outputs": [],
   "source": [
    "#importing numpy for mathematical calulation\n",
    "import numpy as np\n",
    "#importing matplotlib for visiuliztion\n",
    "import matplotlib.pyplot as plt\n",
    "#importing h5py for reading data\n",
    "import h5py\n",
    "%matplotlib inline"
   ]
  },
  {
   "cell_type": "code",
   "execution_count": 179,
   "metadata": {},
   "outputs": [],
   "source": [
    "#loading TRAIN dataset\n",
    "train_dataset = h5py.File('train_catvnoncat.h5', \"r\")"
   ]
  },
  {
   "cell_type": "code",
   "execution_count": 180,
   "metadata": {},
   "outputs": [],
   "source": [
    "#Dividing data into, x and y\n",
    "train_set_x_orig = np.array(train_dataset[\"train_set_x\"][:]) # your train set features\n",
    "train_set_y_orig = np.array(train_dataset[\"train_set_y\"][:]) # your train set labels\n",
    "train_set_y = train_set_y_orig.reshape((1, train_set_y_orig.shape[0]))\n"
   ]
  },
  {
   "cell_type": "code",
   "execution_count": 181,
   "metadata": {},
   "outputs": [],
   "source": [
    "#loading Test dataset\n",
    "test_dataset = h5py.File('test_catvnoncat.h5', \"r\")"
   ]
  },
  {
   "cell_type": "code",
   "execution_count": 182,
   "metadata": {
    "collapsed": true
   },
   "outputs": [],
   "source": [
    "#Dividing data into, x and y\n",
    "test_set_x_orig = np.array(test_dataset[\"test_set_x\"][:]) # your test set features\n",
    "test_set_y_orig = np.array(test_dataset[\"test_set_y\"][:]) # your test set labels\n",
    "test_set_y = test_set_y_orig.reshape((1, test_set_y_orig.shape[0]))\n",
    "classes = np.array(test_dataset[\"list_classes\"][:]) # the list of classes\n"
   ]
  },
  {
   "cell_type": "code",
   "execution_count": 183,
   "metadata": {},
   "outputs": [
    {
     "data": {
      "text/plain": [
       "(209, 64, 64, 3)"
      ]
     },
     "execution_count": 183,
     "metadata": {},
     "output_type": "execute_result"
    }
   ],
   "source": [
    "train_set_x_orig.shape #209 training examples, with 64x64 images"
   ]
  },
  {
   "cell_type": "code",
   "execution_count": 184,
   "metadata": {},
   "outputs": [
    {
     "data": {
      "text/plain": [
       "(50, 64, 64, 3)"
      ]
     },
     "execution_count": 184,
     "metadata": {},
     "output_type": "execute_result"
    }
   ],
   "source": [
    "test_set_x_orig.shape  #50 test examples, "
   ]
  },
  {
   "cell_type": "code",
   "execution_count": 185,
   "metadata": {},
   "outputs": [
    {
     "data": {
      "text/plain": [
       "<matplotlib.image.AxesImage at 0x7f1f6e5ff250>"
      ]
     },
     "execution_count": 185,
     "metadata": {},
     "output_type": "execute_result"
    },
    {
     "data": {
      "image/png": "[encoded data removed]",
      "text/plain": [
       "<matplotlib.figure.Figure at 0x7f1f6e6afdd0>"
      ]
     },
     "metadata": {},
     "output_type": "display_data"
    }
   ],
   "source": [
    "# Example of a picture\n",
    "index = 25\n",
    "plt.imshow(train_set_x_orig[index])"
   ]
  },
  {
   "cell_type": "code",
   "execution_count": 186,
   "metadata": {
    "collapsed": true
   },
   "outputs": [],
   "source": [
    "m_train = train_set_x_orig.shape[0] #number of training examples\n",
    "m_test = test_set_x_orig.shape[0] #number of test examples\n",
    "px = train_set_x_orig.shape[1] #height of image=widhth"
   ]
  },
  {
   "cell_type": "code",
   "execution_count": 187,
   "metadata": {},
   "outputs": [],
   "source": [
    "#Reshaping training and test examples: Unrolling pixels: so each image  is represented by a column"
   ]
  },
  {
   "cell_type": "code",
   "execution_count": 188,
   "metadata": {},
   "outputs": [],
   "source": [
    "train = train_set_x_orig.reshape(px*px*3,m_train)\n",
    "test = test_set_x_orig.reshape(px*px*3,m_test)"
   ]
  },
  {
   "cell_type": "code",
   "execution_count": 189,
   "metadata": {},
   "outputs": [
    {
     "data": {
      "text/plain": [
       "(12288, 209)"
      ]
     },
     "execution_count": 189,
     "metadata": {},
     "output_type": "execute_result"
    }
   ],
   "source": [
    "train.shape"
   ]
  },
  {
   "cell_type": "code",
   "execution_count": 190,
   "metadata": {},
   "outputs": [
    {
     "data": {
      "text/plain": [
       "(12288, 50)"
      ]
     },
     "execution_count": 190,
     "metadata": {},
     "output_type": "execute_result"
    }
   ],
   "source": [
    "test.shape"
   ]
  },
  {
   "cell_type": "code",
   "execution_count": 191,
   "metadata": {
    "collapsed": true
   },
   "outputs": [],
   "source": [
    "#RGB value is specified for each pixel, so its range from 0 to 255\n",
    "#so, for standardize our dataset, we divide each row of dataset by 255"
   ]
  },
  {
   "cell_type": "code",
   "execution_count": 169,
   "metadata": {
    "collapsed": true
   },
   "outputs": [],
   "source": [
    "train_set = train/255\n",
    "test_set =  test/255"
   ]
  },
  {
   "cell_type": "code",
   "execution_count": 170,
   "metadata": {
    "collapsed": true
   },
   "outputs": [],
   "source": [
    "#Sigmoid activation function 1/(1+e^-z)\n",
    "def sigmoid(z):\n",
    "    return 1/(np.exp(-z))"
   ]
  },
  {
   "cell_type": "code",
   "execution_count": 171,
   "metadata": {},
   "outputs": [],
   "source": [
    "#Initializing Parameters w and b for forward propagation\n",
    "def initialize(dim):\n",
    "    w = np.zeros((dim,1))\n",
    "    b =0\n",
    "    return w , b\n",
    "    \n"
   ]
  },
  {
   "cell_type": "code",
   "execution_count": 172,
   "metadata": {},
   "outputs": [],
   "source": [
    "#Forward Propagation: Calculating A and Cost then\n",
    "#Backward Propagation: Calculating dw , db\n",
    "\n",
    "def fpropagate(w,b,X,Y):\n",
    "    #forward Propagation\n",
    "    m=X.shape[1] #number of training examples=209\n",
    "    A = sigmoid(np.dot(w.T,X)+b)\n",
    "    cost = (np.sum(-Y*np.log(A)-(1-Y)*np.log(1-A)))/m\n",
    "    #backward Propagation\n",
    "    dw = np.dot(X,(A-Y).T)/m\n",
    "    db = (np.sum(A-Y))/m\n",
    "    return dw , db , cost"
   ]
  },
  {
   "cell_type": "code",
   "execution_count": 173,
   "metadata": {},
   "outputs": [],
   "source": [
    "#Updating/optimizing the parameters using gradient descent\n",
    "def update(w,b,X,Y,num_iterations, learning_rate):\n",
    "    costs =[] #for storing cost after every 100 iteration \n",
    "    for i in range(num_iterations):\n",
    "        dw,db,cost= fpropagate(w,b,X,Y)\n",
    "        w = w - learning_rate*dw\n",
    "        b = b - learning_rate*db\n",
    "        if i % 100==0:\n",
    "            costs.append(cost) #appending cost value after every 100 iteration, to plot graph, to check gradient descent working correctly or not\n",
    "            \n",
    "    return w , b , dw, db, costs    \n",
    "        \n",
    "    \n"
   ]
  },
  {
   "cell_type": "code",
   "execution_count": 174,
   "metadata": {
    "collapsed": true
   },
   "outputs": [],
   "source": [
    "#Prediction\n",
    "def predict(w,b,X):\n",
    "    m = X.shape[1]\n",
    "    w = w.reshape(X.shape[0],1)\n",
    "    \n",
    "    #prediction the probalities of cat beign present in the picture, using trained w and b .\n",
    "    A = sigmoid(np.dot(w.T,X+b))\n",
    "    for i in range (A.shape[1]):\n",
    "        A[A>0.5] = 1\n",
    "        A[A<=0.5]= 0\n",
    "    return A\n",
    "    "
   ]
  },
  {
   "cell_type": "code",
   "execution_count": 175,
   "metadata": {
    "collapsed": true
   },
   "outputs": [],
   "source": [
    "#merging all the function to create our model\n",
    "def model(X_train, Y_train,X_test, Y_test,num_iteration=3000,learning_rate=0.005):\n",
    "    w,b = initialize(X_train.shape[0])\n",
    "    w,b,dw,db,costs = update(w,b,X_train,Y_train,num_iteration,learning_rate)\n",
    "    Y_prediction_test = predict(w,b,X_test)\n",
    "    Y_prediction_train = predict(w,b,X_train)\n",
    "    \n",
    "    #Printing Accuracy\\\n",
    "    print(\"train accuracy: {} %\".format(100 - np.mean(np.abs(Y_prediction_train - Y_train)) * 100))\n",
    "    print(\"test accuracy: {} %\".format(100 - np.mean(np.abs(Y_prediction_test - Y_test)) * 100))\n",
    "    \n",
    "    d = {\n",
    "        \"costs\":costs,\n",
    "        \"Y_prediction_test\": Y_prediction_test,\n",
    "        \"Y_prediction_train\":Y_prediction_train,\n",
    "        \"w\":w,\n",
    "        \"b\":b,\n",
    "        \"learning_rate\": learning_rate,\n",
    "        \"num_iteration\":num_iteration\n",
    "    }\n",
    "    return d"
   ]
  },
  {
   "cell_type": "code",
   "execution_count": 176,
   "metadata": {},
   "outputs": [
    {
     "name": "stderr",
     "output_type": "stream",
     "text": [
      "/home/ulti72/anaconda2/lib/python2.7/site-packages/ipykernel_launcher.py:8: RuntimeWarning: divide by zero encountered in log\n",
      "  \n",
      "/home/ulti72/anaconda2/lib/python2.7/site-packages/ipykernel_launcher.py:8: RuntimeWarning: invalid value encountered in multiply\n",
      "  \n",
      "/home/ulti72/anaconda2/lib/python2.7/site-packages/ipykernel_launcher.py:8: RuntimeWarning: invalid value encountered in log\n",
      "  \n"
     ]
    },
    {
     "name": "stdout",
     "output_type": "stream",
     "text": [
      "train accuracy: 85.1674641148 %\n",
      "test accuracy: 66.0 %\n"
     ]
    }
   ],
   "source": [
    "#Running Our model on our train_set and test_set\n",
    "d = model(train_set,train_set_y,test_set,test_set_y,num_iteration=2000,learning_rate=0.005)"
   ]
  },
  {
   "cell_type": "code",
   "execution_count": 177,
   "metadata": {},
   "outputs": [
    {
     "data": {
      "image/png": "[encoded data removed]",
      "text/plain": [
       "<matplotlib.figure.Figure at 0x7f1f6e6612d0>"
      ]
     },
     "metadata": {},
     "output_type": "display_data"
    }
   ],
   "source": [
    "# Plot learning curve (with costs)\n",
    "costs = np.squeeze(d['costs'])\n",
    "plt.plot(costs)\n",
    "plt.ylabel('cost')\n",
    "plt.xlabel('iterations (per hundreds)')\n",
    "plt.title(\"Learning rate =\" + str(d[\"learning_rate\"]))\n",
    "plt.show()"
   ]
  },
  {
   "cell_type": "code",
   "execution_count": null,
   "metadata": {
    "collapsed": true
   },
   "outputs": [],
   "source": [
    "#Result:::\n",
    "#Test Accuracy: 66 %\n",
    "#Accuracy can be further increased by: \n",
    "#1.tunning Hyperparameters\n",
    "#2.Training More image examples\n",
    "#3.Using two layer or Convolutional Neural Network\n"
   ]
  }
 ],
 "metadata": {
  "kernelspec": {
   "display_name": "Python 2",
   "language": "python",
   "name": "python2"
  },
  "language_info": {
   "codemirror_mode": {
    "name": "ipython",
    "version": 2
   },
   "file_extension": ".py",
   "mimetype": "text/x-python",
   "name": "python",
   "nbconvert_exporter": "python",
   "pygments_lexer": "ipython2",
   "version": "2.7.14"
  }
 },
 "nbformat": 4,
 "nbformat_minor": 2
}
